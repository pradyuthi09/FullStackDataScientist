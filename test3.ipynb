{
 "cells": [
  {
   "cell_type": "code",
   "execution_count": null,
   "id": "fadc5734",
   "metadata": {},
   "outputs": [
    {
     "name": "stdout",
     "output_type": "stream",
     "text": [
      "2 3 5 7 11 13 17 19 \n"
     ]
    }
   ],
   "source": [
    "#PYTHON FUNCTIONS\n",
    "#1. Prime Number Finder\n",
    "def is_prime(num):\n",
    "    if num <= 1:\n",
    "        return False\n",
    "    if num <= 3:\n",
    "        return True\n",
    "    for i in range(2, int(num**0.5) + 1):\n",
    "        if num % i == 0:\n",
    "            return False\n",
    "    return True\n",
    "\n",
    "def print_primes_up_to(n):\n",
    "    for number in range(1, n + 1):\n",
    "        if is_prime(number):\n",
    "            print(number, end=' ')\n",
    "    print()\n",
    "\n",
    "\n",
    "n = 20\n",
    "print_primes_up_to(n)\n",
    "\n",
    "\n"
   ]
  },
  {
   "cell_type": "code",
   "execution_count": null,
   "id": "9d5f67cc",
   "metadata": {},
   "outputs": [
    {
     "name": "stdout",
     "output_type": "stream",
     "text": [
      "True\n"
     ]
    }
   ],
   "source": [
    "#2. Palindrome Checker\n",
    "def palindrome(s):\n",
    "  s = s.replace(\" \", \"\").lower()\n",
    "  return s == s[::-1]\n",
    "\n",
    "def is_palindrome(strin):\n",
    "    if palindrome(strin):\n",
    "        print(\"True\")\n",
    "    else:\n",
    "        print(\"False\")\n",
    "string=\"Never odd or even\"\n",
    "is_palindrome(string)"
   ]
  },
  {
   "cell_type": "code",
   "execution_count": null,
   "id": "fe365175",
   "metadata": {},
   "outputs": [
    {
     "name": "stdout",
     "output_type": "stream",
     "text": [
      "Anagram\n"
     ]
    }
   ],
   "source": [
    "#3. Anagram Checker\n",
    "def anagram(x,y):\n",
    "    if sorted(x)==sorted(y):\n",
    "       return True\n",
    "    else:\n",
    "        return False\n",
    "def is_anagram(a,b):\n",
    "    if anagram(a,b):\n",
    "        print(\"Anagram\")\n",
    "    else:\n",
    "        print(\"Not Anagram\")\n",
    "x=\"listen\"\n",
    "y=\"silent\"\n",
    "is_anagram(x,y)\n",
    "\n"
   ]
  },
  {
   "cell_type": "code",
   "execution_count": null,
   "id": "0a4e12ad",
   "metadata": {},
   "outputs": [
    {
     "name": "stdout",
     "output_type": "stream",
     "text": [
      "Vowels: 5\n",
      "Consonants: 12\n"
     ]
    }
   ],
   "source": [
    "# 4. Count Vowels & Consonants\n",
    "def vc_count(s):\n",
    "    vc = 0\n",
    "    cc = 0\n",
    "    vowels = \"aeiou\"\n",
    "    s = s.lower()   \n",
    "    for ch in s:\n",
    "        if ch.isalpha():   \n",
    "            if ch in vowels:\n",
    "                vc += 1\n",
    "            else:\n",
    "                cc += 1\n",
    "    return vc, cc   \n",
    "\n",
    "def print_counts(text):\n",
    "    v, c = vc_count(text)\n",
    "    print(f\"Vowels: {v}\")\n",
    "    print(f\"Consonants: {c}\")\n",
    "\n",
    "s = \"dhr2yuergyaertheyq\"\n",
    "print_counts(s)\n"
   ]
  },
  {
   "cell_type": "code",
   "execution_count": null,
   "id": "2954d102",
   "metadata": {},
   "outputs": [
    {
     "name": "stdout",
     "output_type": "stream",
     "text": [
      "Longest word is: amazing\n"
     ]
    }
   ],
   "source": [
    "#5. Longest Word Finder\n",
    "def longest(text):\n",
    "    words = text.split()  \n",
    "    longest_word = \"\"\n",
    "    for word in words:\n",
    "        if len(word) > len(longest_word):\n",
    "            longest_word = word\n",
    "    return longest_word\n",
    "\n",
    "def print_longest(text):\n",
    "    lw = longest(text)\n",
    "    print(\"Longest word is:\", lw)\n",
    "\n",
    "s = \"Python is amazing\"\n",
    "print_longest(s)\n"
   ]
  },
  {
   "cell_type": "code",
   "execution_count": null,
   "id": "e9cbb95f",
   "metadata": {},
   "outputs": [
    {
     "name": "stdout",
     "output_type": "stream",
     "text": [
      "Passowrd !.D^i2\n"
     ]
    }
   ],
   "source": [
    "#Python Modules \n",
    " \n",
    "#1. Random Password Generator (`random`, `string`)\n",
    "\n",
    "import random\n",
    "import string\n",
    "\n",
    "characters=string.ascii_letters+string.digits+string.punctuation\n",
    "passwords_char=[]\n",
    "\n",
    "length=int(input())\n",
    "for i in range(length):\n",
    "    char=random.choice(characters)\n",
    "    passwords_char.append(char)\n",
    "\n",
    "password=''.join(passwords_char)\n",
    "print(\"Passowrd\",password)\n"
   ]
  },
  {
   "cell_type": "code",
   "execution_count": null,
   "id": "90588d82",
   "metadata": {},
   "outputs": [
    {
     "name": "stdout",
     "output_type": "stream",
     "text": [
      "5.0\n",
      "120\n",
      "0.49999999999999994\n",
      "0.5000000000000001\n"
     ]
    }
   ],
   "source": [
    "\n",
    "#2. Simple Calculator with `math`\n",
    "import math\n",
    "\n",
    "def simple_calculator(operation, value):\n",
    "    if operation == \"sqrt\":\n",
    "        return math.sqrt(value)\n",
    "    elif operation == \"factorial\":\n",
    "        return math.factorial(int(value))  \n",
    "    elif operation == \"sin\":\n",
    "        return math.sin(math.radians(value))  \n",
    "    elif operation == \"cos\":\n",
    "        return math.cos(math.radians(value))  \n",
    "    else:\n",
    "        return \"Invalid Operation\"\n",
    "\n",
    "\n",
    "print(simple_calculator(\"sqrt\", 25))     \n",
    "print(simple_calculator(\"factorial\", 5))  \n",
    "print(simple_calculator(\"sin\", 30))       \n",
    "print(simple_calculator(\"cos\", 60))       \n"
   ]
  },
  {
   "cell_type": "code",
   "execution_count": null,
   "id": "bceea6e6",
   "metadata": {},
   "outputs": [
    {
     "name": "stdout",
     "output_type": "stream",
     "text": [
      "{'cat': 3, 'dog': 1}\n"
     ]
    }
   ],
   "source": [
    "#3. Word Frequency Counter (`collections.Counter`)\n",
    "from collections import Counter\n",
    "\n",
    "def word_frequency(words):\n",
    "   \n",
    "    return dict(Counter(words))\n",
    "\n",
    "\n",
    "words = [\"cat\", \"dog\", \"cat\", \"cat\"]\n",
    "frequency = word_frequency(words)\n",
    "print(frequency)\n"
   ]
  },
  {
   "cell_type": "code",
   "execution_count": null,
   "id": "c04f01e8",
   "metadata": {},
   "outputs": [
    {
     "name": "stdout",
     "output_type": "stream",
     "text": [
      "Weather: Sunny, Temp: 24°C\n"
     ]
    }
   ],
   "source": [
    "#4. Weather Simulator (`random`)\n",
    "import random\n",
    "\n",
    "def weather_simulator():\n",
    "    weather_types = [\"Sunny\", \"Rainy\", \"Cloudy\", \"Windy\", \"Stormy\"]\n",
    "    weather = random.choice(weather_types)        \n",
    "    temperature = random.randint(15, 40)          \n",
    "    return f\"Weather: {weather}, Temp: {temperature}°C\"\n",
    "\n",
    "print(weather_simulator())\n",
    "\n",
    "\n"
   ]
  },
  {
   "cell_type": "code",
   "execution_count": null,
   "id": "ad7992ac",
   "metadata": {},
   "outputs": [
    {
     "name": "stdout",
     "output_type": "stream",
     "text": [
      "5\n",
      "4\n",
      "3\n",
      "2\n",
      "1\n",
      "Time up\n"
     ]
    }
   ],
   "source": [
    "#5. Timer Program (`time`)\n",
    "def countdown(n):\n",
    "    try:\n",
    "        for i in range(n, 0, -1):  # step = -1 to count down\n",
    "            print(i)\n",
    "    finally:\n",
    "        print(\"Time up\")\n",
    "\n",
    "n = 5\n",
    "countdown(n)\n",
    "\n",
    "\n"
   ]
  },
  {
   "cell_type": "code",
   "execution_count": null,
   "id": "e3af6ce1",
   "metadata": {},
   "outputs": [
    {
     "name": "stdout",
     "output_type": "stream",
     "text": [
      "Deposited Amount is 50\n",
      "withdraw Amount is 30\n",
      "Balance: 120\n",
      "Insufficent balance\n",
      "Balance: 120\n"
     ]
    }
   ],
   "source": [
    "#Python OOPs \n",
    " \n",
    "#1. Bank Account Class\n",
    " \n",
    "\n",
    "class BankAccount:\n",
    "    def __init__(self,balance=0,owner=None):\n",
    "        self.balance=balance\n",
    "        self.owner=owner\n",
    "    def deposit(self,amount):\n",
    "        if amount>0:\n",
    "            self.balance+=amount\n",
    "            print(f\"Deposited Amount is {amount}\")\n",
    "        else:\n",
    "            print(\"Deposited amount should be positive\")\n",
    "    def withdraw(self,amount):\n",
    "        if self.balance>amount:\n",
    "            self.balance-=amount\n",
    "            print(f\"withdraw Amount is {amount}\")\n",
    "        elif amount<=0:\n",
    "            print(\"withdraw amount should be positive\")\n",
    "        else:\n",
    "            print(\"Insufficent balance\")\n",
    "    def get_balance(self):\n",
    "        return self.balance\n",
    "acc = BankAccount(100, \"ponnu\")\n",
    "\n",
    "acc.deposit(50)      \n",
    "acc.withdraw(30)     \n",
    "print(\"Balance:\", acc.get_balance())\n",
    "\n",
    "acc.withdraw(120)   \n",
    "print(\"Balance:\", acc.get_balance())\n",
    "\n",
    "\n",
    "\n"
   ]
  },
  {
   "cell_type": "code",
   "execution_count": null,
   "id": "3c940a41",
   "metadata": {},
   "outputs": [
    {
     "name": "stdout",
     "output_type": "stream",
     "text": [
      "Average: 85.0\n",
      "Highest: 95\n",
      "Lowest: 80\n",
      "Marks: [90, 80, 85, 95]\n"
     ]
    }
   ],
   "source": [
    "#2. Student Class with Average\n",
    "class Student:\n",
    "    def __init__(self, name, marks=None):\n",
    "        self.name = name\n",
    "        self.marks = marks if marks is not None else [] \n",
    "\n",
    "    def add_mark(self, mark):\n",
    "        self.marks.append(mark)\n",
    "\n",
    "    def average(self):\n",
    "        if len(self.marks) == 0:\n",
    "            return 0\n",
    "        return sum(self.marks) / len(self.marks)\n",
    "\n",
    "    def highest(self):\n",
    "        if len(self.marks) == 0:\n",
    "            return None\n",
    "        return max(self.marks)\n",
    "\n",
    "    def lowest(self):\n",
    "        if len(self.marks) == 0:\n",
    "            return None\n",
    "        return min(self.marks)\n",
    "\n",
    "\n",
    "\n",
    "s = Student(\"Tom\", [90, 80, 85])\n",
    "print(\"Average:\", s.average())   \n",
    "s.add_mark(95)\n",
    "print(\"Highest:\", s.highest())  \n",
    "print(\"Lowest:\", s.lowest())     \n",
    "print(\"Marks:\", s.marks)        \n",
    "\n",
    "\n"
   ]
  },
  {
   "cell_type": "code",
   "execution_count": null,
   "id": "23c5d7f8",
   "metadata": {},
   "outputs": [
    {
     "name": "stdout",
     "output_type": "stream",
     "text": [
      "10000.0\n"
     ]
    }
   ],
   "source": [
    "#3. Employee Bonus System\n",
    "class Employee:\n",
    "    def __init__(self, name, salary, role):\n",
    "        self.name = name\n",
    "        self.salary = salary\n",
    "        self.role = role\n",
    "\n",
    "    def bonus(self):\n",
    "        if self.role == \"Manager\":\n",
    "            return 0.20 * self.salary\n",
    "        elif self.role == \"Developer\":\n",
    "            return 0.10 * self.salary\n",
    "        elif self.role == \"Intern\":\n",
    "            return 0.05 * self.salary\n",
    "        else:\n",
    "            return 0   \n",
    "\n",
    "m = Employee(\"Alice\", 50000, \"Manager\")\n",
    "print(m.bonus())  \n",
    "\n",
    "\n"
   ]
  },
  {
   "cell_type": "code",
   "execution_count": null,
   "id": "319f0739",
   "metadata": {},
   "outputs": [
    {
     "name": "stdout",
     "output_type": "stream",
     "text": [
      "153.93804002589985\n",
      "20\n"
     ]
    }
   ],
   "source": [
    "#4. Shape Area Calculator\n",
    "import math\n",
    "class Shape:\n",
    "    def __init__(self, name):\n",
    "        self.name = name\n",
    "\n",
    "class Circle(Shape):\n",
    "    def __init__(self, radius):\n",
    "        super().__init__(\"Circle\")   \n",
    "        self.radius = radius\n",
    "\n",
    "    def area(self):\n",
    "        return math.pi * (self.radius ** 2)\n",
    "\n",
    "\n",
    "class Rectangle(Shape):\n",
    "    def __init__(self, width, height):\n",
    "        super().__init__(\"Rectangle\")\n",
    "        self.width = width\n",
    "        self.height = height\n",
    "\n",
    "    def area(self):\n",
    "        return self.width * self.height\n",
    "c = Circle(7)\n",
    "print(c.area())\n",
    "r = Rectangle(4, 5)\n",
    "print(r.area())\n"
   ]
  },
  {
   "cell_type": "code",
   "execution_count": null,
   "id": "059a6d70",
   "metadata": {},
   "outputs": [
    {
     "name": "stdout",
     "output_type": "stream",
     "text": [
      "Shirt added for ₹500\n",
      "Shoes added for ₹1500\n",
      "2000\n"
     ]
    }
   ],
   "source": [
    "#5. E-commerce Order Class\n",
    "class Order:\n",
    "    def __init__(self):\n",
    "\n",
    "        self.items = {}\n",
    "\n",
    "    def add(self, item, price):\n",
    "        self.items[item] = price\n",
    "        print(f\"{item} added for ₹{price}\")\n",
    "\n",
    "    def remove(self, item):\n",
    "       \n",
    "        if item in self.items:\n",
    "            del self.items[item]\n",
    "            print(f\"{item} removed from order\")\n",
    "        else:\n",
    "            print(f\"{item} not found in order\")\n",
    "\n",
    "    def calculate_total(self):\n",
    "       \n",
    "        return sum(self.items.values())\n",
    "\n",
    "    def show_items(self):\n",
    "        if not self.items:\n",
    "            print(\"No items in order\")\n",
    "        else:\n",
    "            for item, price in self.items.items():\n",
    "                print(f\"{item}: ₹{price}\")\n",
    "order = Order()\n",
    "order.add(\"Shirt\", 500)\n",
    "order.add(\"Shoes\", 1500)\n",
    "print(order.calculate_total())\n",
    "\n",
    "\n"
   ]
  },
  {
   "cell_type": "code",
   "execution_count": null,
   "id": "d0c5e9f1",
   "metadata": {},
   "outputs": [
    {
     "name": "stdout",
     "output_type": "stream",
     "text": [
      "[0, 1, 1, 2, 3, 5, 8]\n"
     ]
    }
   ],
   "source": [
    "## Python Functions \n",
    " \n",
    "#1. Fibonacci Generator\n",
    "def fibonacci(n):\n",
    "    if n == 0:\n",
    "        return 0\n",
    "    elif n == 1:\n",
    "        return 1\n",
    "    else:\n",
    "        return fibonacci(n-1) + fibonacci(n-2)\n",
    "\n",
    "\n",
    "def fibonacci_sequence(n):\n",
    "    return [fibonacci(i) for i in range(n)]\n",
    "\n",
    "print(fibonacci_sequence(7)) \n"
   ]
  },
  {
   "cell_type": "code",
   "execution_count": null,
   "id": "a9fa2d12",
   "metadata": {},
   "outputs": [
    {
     "name": "stdout",
     "output_type": "stream",
     "text": [
      "120\n"
     ]
    }
   ],
   "source": [
    "#2. Factorial Using Recursion\n",
    "\n",
    "def factorial(n):\n",
    "    if n == 0 or n == 1:\n",
    "        return 1\n",
    "    return n * factorial(n - 1)\n",
    "\n",
    "print(factorial(5))   \n"
   ]
  },
  {
   "cell_type": "code",
   "execution_count": null,
   "id": "dc0008c4",
   "metadata": {},
   "outputs": [
    {
     "name": "stdout",
     "output_type": "stream",
     "text": [
      "{'apple': 2, 'banana': 2, 'orange': 1}\n"
     ]
    }
   ],
   "source": [
    "#3. Unique Words Counter\n",
    "from collections import Counter\n",
    "\n",
    "def word_counter(sentence):\n",
    "    words = sentence.split()\n",
    "    return dict(Counter(words))\n",
    "\n",
    "print(word_counter(\"apple banana apple orange banana\"))\n",
    "\n"
   ]
  },
  {
   "cell_type": "code",
   "execution_count": null,
   "id": "6f7cf14c",
   "metadata": {},
   "outputs": [
    {
     "name": "stdout",
     "output_type": "stream",
     "text": [
      "Grade: A\n"
     ]
    }
   ],
   "source": [
    "#4. Grade Calculator\n",
    "def calculate_grade(marks):\n",
    "    avg = sum(marks) / len(marks)\n",
    "    if avg >= 90:\n",
    "        return \"Grade: A+\"\n",
    "    elif avg >= 80:\n",
    "        return \"Grade: A\"\n",
    "    elif avg >= 70:\n",
    "        return \"Grade: B\"\n",
    "    elif avg >= 60:\n",
    "        return \"Grade: C\"\n",
    "    else:\n",
    "        return \"Grade: F\"\n",
    "\n",
    "print(calculate_grade([85, 90, 78]))   # Grade: A\n",
    "\n"
   ]
  },
  {
   "cell_type": "code",
   "execution_count": null,
   "id": "419e2916",
   "metadata": {},
   "outputs": [
    {
     "name": "stdout",
     "output_type": "stream",
     "text": [
      "10\n"
     ]
    }
   ],
   "source": [
    "#5. Second Largest Number\n",
    "def second_largest(nums):\n",
    "    unique_nums = list(set(nums))  \n",
    "    unique_nums.sort(reverse=True)  \n",
    "    return unique_nums[1] if len(unique_nums) > 1 else None\n",
    "\n",
    "print(second_largest([10, 5, 20, 8]))  \n"
   ]
  },
  {
   "cell_type": "code",
   "execution_count": null,
   "id": "ee00bbd3",
   "metadata": {},
   "outputs": [
    {
     "name": "stdout",
     "output_type": "stream",
     "text": [
      "Mean = 87.86\n",
      "Median = 90\n",
      "Variance = 73.81\n"
     ]
    }
   ],
   "source": [
    "### Python Modules \n",
    "#2. `statistics` → Exam Score Analysis\n",
    "import statistics\n",
    "\n",
    "scores = [75, 80, 90, 100, 85, 90, 95]\n",
    "\n",
    "mean_score = statistics.mean(scores)\n",
    "median_score = statistics.median(scores)\n",
    "variance_score = statistics.variance(scores)\n",
    "\n",
    "print(f\"Mean = {mean_score:.2f}\")\n",
    "print(f\"Median = {median_score}\")\n",
    "print(f\"Variance = {variance_score:.2f}\")\n"
   ]
  },
  {
   "cell_type": "code",
   "execution_count": null,
   "id": "67155eb2",
   "metadata": {},
   "outputs": [
    {
     "name": "stdout",
     "output_type": "stream",
     "text": [
      "Roots are: 2.0 and 1.0\n"
     ]
    }
   ],
   "source": [
    "\n",
    "#3. `math` → Quadratic Equation Solver\n",
    "import math\n",
    "\n",
    "a, b, c = 1, -3, 2\n",
    "\n",
    "discriminant = b**2 - 4*a*c\n",
    "\n",
    "if discriminant < 0:\n",
    "    print(\"No real roots\")\n",
    "else:\n",
    "    root1 = (-b + math.sqrt(discriminant)) / (2*a)\n",
    "    root2 = (-b - math.sqrt(discriminant)) / (2*a)\n",
    "    print(f\"Roots are: {root1} and {root2}\")\n"
   ]
  },
  {
   "cell_type": "code",
   "execution_count": null,
   "id": "5a329c6a",
   "metadata": {},
   "outputs": [
    {
     "name": "stdout",
     "output_type": "stream",
     "text": [
      "You chose Rock, Computer chose Scissors\n",
      "You Win!\n"
     ]
    }
   ],
   "source": [
    "#`random` → Rock Paper Scissors Game\n",
    "import random\n",
    "\n",
    "options = [\"Rock\", \"Paper\", \"Scissors\"]\n",
    "\n",
    "user_choice = input(\"Enter Rock, Paper, or Scissors: \")\n",
    "computer_choice = random.choice(options)\n",
    "\n",
    "print(f\"You chose {user_choice}, Computer chose {computer_choice}\")\n",
    "\n",
    "\n",
    "if user_choice == computer_choice:\n",
    "    print(\"It's a Tie!\")\n",
    "elif (user_choice == \"Rock\" and computer_choice == \"Scissors\") or \\\n",
    "     (user_choice == \"Paper\" and computer_choice == \"Rock\") or \\\n",
    "     (user_choice == \"Scissors\" and computer_choice == \"Paper\"):\n",
    "    print(\"You Win!\")\n",
    "else:\n",
    "    print(\"Computer Wins!\")\n"
   ]
  },
  {
   "cell_type": "code",
   "execution_count": null,
   "id": "f32bf7c9",
   "metadata": {},
   "outputs": [
    {
     "name": "stdout",
     "output_type": "stream",
     "text": [
      "Please provide exactly 3 numbers\n"
     ]
    }
   ],
   "source": [
    "#5. `sys` → Sum from Command Line\n",
    "import sys\n",
    "\n",
    "if len(sys.argv) != 4:\n",
    "    print(\"Please provide exactly 3 numbers\")\n",
    "else:\n",
    "    nums = [int(x) for x in sys.argv[1:4]]\n",
    "    print(\"Sum =\", sum(nums))\n"
   ]
  },
  {
   "cell_type": "code",
   "execution_count": null,
   "id": "6cb7fc87",
   "metadata": {},
   "outputs": [
    {
     "name": "stdout",
     "output_type": "stream",
     "text": [
      "Access Granted\n",
      "Deposited 200\n",
      "Withdrew 100\n",
      "Balance: 600\n"
     ]
    }
   ],
   "source": [
    "### 1. ATM Machine with PIN\n",
    "class ATM:\n",
    "    def __init__(self, pin, balance=0):\n",
    "        self.pin = pin\n",
    "        self.balance = balance\n",
    "        self.is_authenticated = False\n",
    "\n",
    "    def login(self, pin):\n",
    "        if pin == self.pin:\n",
    "            self.is_authenticated = True\n",
    "            return \"Access Granted\"\n",
    "        else:\n",
    "            return \"Access Denied\"\n",
    "\n",
    "    def check_balance(self):\n",
    "        if self.is_authenticated:\n",
    "            return f\"Balance: {self.balance}\"\n",
    "        return \"Please login first\"\n",
    "\n",
    "    def deposit(self, amount):\n",
    "        if self.is_authenticated:\n",
    "            self.balance += amount\n",
    "            return f\"Deposited {amount}\"\n",
    "        return \"Please login first\"\n",
    "\n",
    "    def withdraw(self, amount):\n",
    "        if self.is_authenticated:\n",
    "            if amount <= self.balance:\n",
    "                self.balance -= amount\n",
    "                return f\"Withdrew {amount}\"\n",
    "            else:\n",
    "                return \"Insufficient balance\"\n",
    "        return \"Please login first\"\n",
    "\n",
    "\n",
    "atm = ATM(1234, 500)\n",
    "print(atm.login(1234))\n",
    "print(atm.deposit(200))\n",
    "print(atm.withdraw(100))\n",
    "print(atm.check_balance())\n"
   ]
  },
  {
   "cell_type": "code",
   "execution_count": null,
   "id": "8f8a4753",
   "metadata": {},
   "outputs": [
    {
     "name": "stdout",
     "output_type": "stream",
     "text": [
      "Dr. Smith is teaching Python\n",
      "Alice enrolled in Python\n",
      "Dr. Smith assigned: Project 1\n",
      "Alice submitted: Project 1\n"
     ]
    }
   ],
   "source": [
    "\n",
    "#2. University System\n",
    "class Professor:\n",
    "    def __init__(self, name, subject):\n",
    "        self.name = name\n",
    "        self.subject = subject\n",
    "\n",
    "    def teach(self, course):\n",
    "        return f\"{self.name} is teaching {course}\"\n",
    "\n",
    "    def give_assignment(self, task):\n",
    "        return f\"{self.name} assigned: {task}\"\n",
    "\n",
    "\n",
    "class Student:\n",
    "    def __init__(self, name):\n",
    "        self.name = name\n",
    "        self.courses = []\n",
    "        self.assignments = []\n",
    "\n",
    "    def enroll(self, course):\n",
    "        self.courses.append(course)\n",
    "        return f\"{self.name} enrolled in {course}\"\n",
    "\n",
    "    def submit_assignment(self, task):\n",
    "        self.assignments.append(task)\n",
    "        return f\"{self.name} submitted: {task}\"\n",
    "\n",
    "\n",
    "prof = Professor(\"Dr. Smith\", \"Computer Science\")\n",
    "stud = Student(\"Alice\")\n",
    "print(prof.teach(\"Python\"))\n",
    "print(stud.enroll(\"Python\"))\n",
    "print(prof.give_assignment(\"Project 1\"))\n",
    "print(stud.submit_assignment(\"Project 1\"))\n"
   ]
  },
  {
   "cell_type": "code",
   "execution_count": null,
   "id": "af65cb78",
   "metadata": {},
   "outputs": [
    {
     "name": "stdout",
     "output_type": "stream",
     "text": [
      "Burger added\n",
      "Pizza added\n",
      "Pizza price updated to 250\n",
      "Burger removed\n",
      "Menu: {'Pizza': 250}\n"
     ]
    }
   ],
   "source": [
    "### 3. Restaurant Menu\n",
    "class Menu:\n",
    "    def __init__(self):\n",
    "        self.items = {}\n",
    "\n",
    "    def add_item(self, name, price):\n",
    "        self.items[name] = price\n",
    "        return f\"{name} added\"\n",
    "\n",
    "    def remove_item(self, name):\n",
    "        if name in self.items:\n",
    "            del self.items[name]\n",
    "            return f\"{name} removed\"\n",
    "        return f\"{name} not in menu\"\n",
    "\n",
    "    def update_price(self, name, new_price):\n",
    "        if name in self.items:\n",
    "            self.items[name] = new_price\n",
    "            return f\"{name} price updated to {new_price}\"\n",
    "        return f\"{name} not in menu\"\n",
    "\n",
    "    def show_menu(self):\n",
    "        print(\"Menu:\", self.items)\n",
    "\n",
    "\n",
    "\n",
    "menu = Menu()\n",
    "print(menu.add_item(\"Burger\", 100))\n",
    "print(menu.add_item(\"Pizza\", 200))\n",
    "print(menu.update_price(\"Pizza\", 250))\n",
    "print(menu.remove_item(\"Burger\"))\n",
    "menu.show_menu()\n"
   ]
  }
 ],
 "metadata": {
  "kernelspec": {
   "display_name": "Python 3",
   "language": "python",
   "name": "python3"
  },
  "language_info": {
   "codemirror_mode": {
    "name": "ipython",
    "version": 3
   },
   "file_extension": ".py",
   "mimetype": "text/x-python",
   "name": "python",
   "nbconvert_exporter": "python",
   "pygments_lexer": "ipython3",
   "version": "3.11.0"
  }
 },
 "nbformat": 4,
 "nbformat_minor": 5
}
