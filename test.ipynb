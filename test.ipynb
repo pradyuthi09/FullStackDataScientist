{
 "cells": [
  {
   "cell_type": "code",
   "execution_count": 1,
   "id": "c23035de",
   "metadata": {},
   "outputs": [
    {
     "name": "stdout",
     "output_type": "stream",
     "text": [
      "7\n"
     ]
    }
   ],
   "source": [
    "a=int(input(\"Enter a\"))\n",
    "b=int(input(\"Enter b\"))\n",
    "c=a+b\n",
    "print(c)"
   ]
  },
  {
   "cell_type": "code",
   "execution_count": 2,
   "id": "3230f329",
   "metadata": {},
   "outputs": [
    {
     "name": "stdout",
     "output_type": "stream",
     "text": [
      "Not a leap year\n"
     ]
    }
   ],
   "source": [
    "n=int(input(\"Enter the year\"))\n",
    "if(n%4==0):\n",
    "    if(n%100!=0):\n",
    "        print(\"leap year\")\n",
    "    else:\n",
    "        if(n%400==0):\n",
    "            print(\"Leap year\")\n",
    "        else:\n",
    "            print(\" Not a Leap year\")\n",
    "else:\n",
    "    print(\"Not a leap year\")\n",
    "\n",
    "\n",
    "\n"
   ]
  },
  {
   "cell_type": "code",
   "execution_count": 3,
   "id": "50bf9a68",
   "metadata": {},
   "outputs": [
    {
     "name": "stdout",
     "output_type": "stream",
     "text": [
      "Largest is 9\n"
     ]
    }
   ],
   "source": [
    "a=int(input(\"Enter a\"))\n",
    "b=int(input(\"Enter b\"))\n",
    "c=int(input(\"Enter c\"))\n",
    "d=int(input(\"Enter d\"))\n",
    "e=int(input(\"Enter e\"))\n",
    "if(a>b&a>c&a>d&a>e):\n",
    "    print(\"Largest is\",a)\n",
    "elif(b>c & b>d & b>e & b>a):\n",
    "    print(\"Largest is\",b)\n",
    "elif(c>b & c>a & c>d & c>e):\n",
    "    print(\"Largest is\",c)\n",
    "elif(d>b&d>c&d>a&d>e):\n",
    "    print(\"Largest is\",d)\n",
    "else:\n",
    "    print(\"Largest is\",e)"
   ]
  },
  {
   "cell_type": "code",
   "execution_count": 6,
   "id": "4d1e04fc",
   "metadata": {},
   "outputs": [
    {
     "name": "stdout",
     "output_type": "stream",
     "text": [
      "Palindrome\n"
     ]
    }
   ],
   "source": [
    "num = input(\"Enter a number: \")   # keep it as string\n",
    "\n",
    "if num == num[::-1]:\n",
    "    print(\"Palindrome\")\n",
    "else:\n",
    "    print(\"Not a palindrome\")\n",
    "\n"
   ]
  },
  {
   "cell_type": "code",
   "execution_count": 7,
   "id": "9446a97a",
   "metadata": {},
   "outputs": [
    {
     "name": "stdout",
     "output_type": "stream",
     "text": [
      "Factorial is 120\n"
     ]
    }
   ],
   "source": [
    "n=int(input(\"Enter num\"))\n",
    "fact=1\n",
    "if n==0:\n",
    "    print(\"Factorial is 0\")\n",
    "else:\n",
    "    for i in range(1,n+1):\n",
    "        fact*=i\n",
    "    print(\"Factorial is\",fact)"
   ]
  },
  {
   "cell_type": "code",
   "execution_count": 9,
   "id": "0d20d7ce",
   "metadata": {},
   "outputs": [
    {
     "name": "stdout",
     "output_type": "stream",
     "text": [
      "3\n",
      "5\n",
      "6\n",
      "9\n",
      "10\n",
      "12\n",
      "15\n",
      "18\n",
      "20\n",
      "21\n",
      "24\n",
      "25\n",
      "27\n",
      "30\n",
      "33\n",
      "35\n",
      "36\n",
      "39\n",
      "40\n",
      "42\n",
      "45\n",
      "48\n",
      "50\n",
      "51\n",
      "54\n",
      "55\n",
      "57\n",
      "60\n",
      "63\n",
      "65\n",
      "66\n",
      "69\n",
      "70\n",
      "72\n",
      "75\n",
      "78\n",
      "80\n",
      "81\n",
      "84\n",
      "85\n",
      "87\n",
      "90\n",
      "93\n",
      "95\n",
      "96\n",
      "99\n",
      "100\n"
     ]
    }
   ],
   "source": [
    "for i in range(1,100+1):\n",
    "    if(i%3==0 or i%5==0):\n",
    "        print(i)"
   ]
  },
  {
   "cell_type": "code",
   "execution_count": 10,
   "id": "51f58d9a",
   "metadata": {},
   "outputs": [
    {
     "name": "stdout",
     "output_type": "stream",
     "text": [
      "Not prime\n"
     ]
    }
   ],
   "source": [
    "n = int(input(\"Enter num: \"))\n",
    "count = 0\n",
    "\n",
    "if n == 0 or n == 1:\n",
    "    print(\"Neither prime nor composite\")\n",
    "elif n == 2 or n == 3:\n",
    "    print(\"Prime\")\n",
    "else:\n",
    "    for i in range(1, n+1):\n",
    "        if n % i == 0:\n",
    "            count += 1\n",
    "    if count == 2:\n",
    "        print(\"Prime\")\n",
    "    else:\n",
    "        print(\"Not prime\")\n",
    "\n"
   ]
  },
  {
   "cell_type": "code",
   "execution_count": null,
   "id": "473a7200",
   "metadata": {},
   "outputs": [],
   "source": []
  },
  {
   "cell_type": "code",
   "execution_count": 11,
   "id": "6fd25f85",
   "metadata": {},
   "outputs": [
    {
     "name": "stdout",
     "output_type": "stream",
     "text": [
      "Second highest score is: 80\n"
     ]
    }
   ],
   "source": [
    "\n",
    "s = [50, 70, 90, 80, 90, 60]\n",
    "\n",
    "score = list(set(s))\n",
    "\n",
    "score.sort(reverse=True)\n",
    "\n",
    "if len(score) >= 2:\n",
    "    print(\"Second highest score is:\", score[1])\n",
    "else:\n",
    "    print(\"Not enough unique scores to find second highest\")\n"
   ]
  },
  {
   "cell_type": "code",
   "execution_count": 16,
   "id": "cc49ea76",
   "metadata": {},
   "outputs": [
    {
     "name": "stdout",
     "output_type": "stream",
     "text": [
      "650\n"
     ]
    }
   ],
   "source": [
    "sum=0\n",
    "for i in range(2,50+1,2):\n",
    "    sum+=i\n",
    "print(sum)"
   ]
  },
  {
   "cell_type": "code",
   "execution_count": 17,
   "id": "e6805659",
   "metadata": {},
   "outputs": [
    {
     "name": "stdout",
     "output_type": "stream",
     "text": [
      "Lowercase letters: 3\n",
      "Uppercase letters: 2\n"
     ]
    }
   ],
   "source": [
    "low = 0\n",
    "high = 0\n",
    "text = input(\"Enter string: \")\n",
    "\n",
    "for ch in text:\n",
    "    if ch.islower():\n",
    "        low += 1\n",
    "    elif ch.isupper():   # only count letters as uppercase\n",
    "        high += 1\n",
    "\n",
    "print(\"Lowercase letters:\", low)\n",
    "print(\"Uppercase letters:\", high)\n"
   ]
  },
  {
   "cell_type": "code",
   "execution_count": 1,
   "id": "e5b38e96",
   "metadata": {},
   "outputs": [
    {
     "name": "stdout",
     "output_type": "stream",
     "text": [
      "Fibonacci sequence:\n",
      "0 1 1 2 3 "
     ]
    }
   ],
   "source": [
    "def fibonacci(n):\n",
    "    if n == 0:\n",
    "        return 0\n",
    "    elif n == 1:\n",
    "        return 1\n",
    "    else:\n",
    "        return fibonacci(n-1) + fibonacci(n-2)\n",
    "\n",
    "n = int(input(\"Enter n: \"))\n",
    "print(\"Fibonacci sequence:\")\n",
    "for i in range(n):\n",
    "    print(fibonacci(i), end=\" \")\n"
   ]
  },
  {
   "cell_type": "code",
   "execution_count": 2,
   "id": "afd6275d",
   "metadata": {},
   "outputs": [
    {
     "name": "stdout",
     "output_type": "stream",
     "text": [
      "Anagrams\n"
     ]
    }
   ],
   "source": [
    "word1 = \"listen\"\n",
    "word2 = \"silent\"\n",
    "\n",
    "if sorted(word1) == sorted(word2):\n",
    "    print(\"Anagrams\")\n",
    "else:\n",
    "    print(\"Not anagrams\")\n"
   ]
  },
  {
   "cell_type": "code",
   "execution_count": 3,
   "id": "4a2723d4",
   "metadata": {},
   "outputs": [
    {
     "name": "stdout",
     "output_type": "stream",
     "text": [
      "78 is not a perfect number\n"
     ]
    }
   ],
   "source": [
    "n = int(input(\"Enter a number: \"))\n",
    "div = 0\n",
    "\n",
    "for i in range(1, n):\n",
    "    if n % i == 0:\n",
    "        div += i\n",
    "\n",
    "if div == n:\n",
    "    print(n, \"is a perfect number\")\n",
    "else:\n",
    "    print(n, \"is not a perfect number\")\n"
   ]
  },
  {
   "cell_type": "code",
   "execution_count": 4,
   "id": "451b67ba",
   "metadata": {},
   "outputs": [
    {
     "name": "stdout",
     "output_type": "stream",
     "text": [
      "2 3 5 7 11 13 17 19 23 29 31 37 41 43 47 53 59 61 67 71 73 79 83 89 97 "
     ]
    }
   ],
   "source": [
    "for num in range(2, 101):\n",
    "    is_prime = True\n",
    "\n",
    "    for i in range(2, int(num**0.5) + 1):\n",
    "        if num % i == 0:\n",
    "            is_prime = False\n",
    "            break\n",
    "\n",
    "    if is_prime:\n",
    "        print(num, end=\" \")\n"
   ]
  },
  {
   "cell_type": "code",
   "execution_count": 5,
   "id": "ecbbede6",
   "metadata": {},
   "outputs": [
    {
     "name": "stdout",
     "output_type": "stream",
     "text": [
      "Number of words: 3\n"
     ]
    }
   ],
   "source": [
    "text = input(\"Enter a sentence: \")\n",
    "\n",
    "word_count = 0\n",
    "in_word = False  \n",
    "\n",
    "for ch in text:\n",
    "    if ch != \" \" and not in_word:\n",
    "        \n",
    "        word_count += 1\n",
    "        in_word = True\n",
    "    elif ch == \" \":\n",
    "        in_word = False  \n",
    "\n",
    "print(\"Number of words:\", word_count)\n"
   ]
  },
  {
   "cell_type": "code",
   "execution_count": 6,
   "id": "90f4bb3b",
   "metadata": {},
   "outputs": [
    {
     "name": "stdout",
     "output_type": "stream",
     "text": [
      "Final ticket price: 67.0\n"
     ]
    }
   ],
   "source": [
    "price = float(input(\"Enter ticket price: \"))\n",
    "age = int(input(\"Enter age: \"))\n",
    "student = input(\"Are you a student? (yes/no): \").lower()\n",
    "\n",
    "discount = 0\n",
    "\n",
    "if student == \"yes\":\n",
    "    discount = 0.2  # 20%\n",
    "elif age >= 60:\n",
    "    discount = 0.1  # 10%\n",
    "\n",
    "final_price = price * (1 - discount)\n",
    "print(\"Final ticket price:\", final_price)\n"
   ]
  },
  {
   "cell_type": "code",
   "execution_count": 7,
   "id": "e4016ffd",
   "metadata": {},
   "outputs": [
    {
     "name": "stdout",
     "output_type": "stream",
     "text": [
      "Final amount payable: 780.0\n"
     ]
    }
   ],
   "source": [
    "cart_total = float(input(\"Enter cart total: \"))\n",
    "\n",
    "if cart_total > 500:\n",
    "    delivery = 0\n",
    "else:\n",
    "    delivery = 50\n",
    "\n",
    "final_amount = cart_total + delivery\n",
    "print(\"Final amount payable:\", final_amount)\n"
   ]
  },
  {
   "cell_type": "code",
   "execution_count": 8,
   "id": "a63fd36f",
   "metadata": {},
   "outputs": [
    {
     "name": "stdout",
     "output_type": "stream",
     "text": [
      "Grade: B\n"
     ]
    }
   ],
   "source": [
    "marks = float(input(\"Enter marks: \"))\n",
    "\n",
    "if 90 <= marks <= 100:\n",
    "    grade = \"A\"\n",
    "elif 75 <= marks <= 89:\n",
    "    grade = \"B\"\n",
    "elif 50 <= marks <= 74:\n",
    "    grade = \"C\"\n",
    "else:\n",
    "    grade = \"Fail\"\n",
    "\n",
    "print(\"Grade:\", grade)\n"
   ]
  },
  {
   "cell_type": "markdown",
   "id": "eef3ef85",
   "metadata": {},
   "source": []
  },
  {
   "cell_type": "code",
   "execution_count": 9,
   "id": "04ef85aa",
   "metadata": {},
   "outputs": [
    {
     "name": "stdout",
     "output_type": "stream",
     "text": [
      "Tip to be added: 90.0\n"
     ]
    }
   ],
   "source": [
    "bill = float(input(\"Enter bill amount: \"))\n",
    "\n",
    "if bill < 500:\n",
    "    tip = 0.05 * bill\n",
    "elif 500 <= bill <= 1000:\n",
    "    tip = 0.10 * bill\n",
    "else:\n",
    "    tip = 0.15 * bill\n",
    "\n",
    "print(\"Tip to be added:\", tip)\n"
   ]
  },
  {
   "cell_type": "code",
   "execution_count": 10,
   "id": "b949fc08",
   "metadata": {},
   "outputs": [
    {
     "name": "stdout",
     "output_type": "stream",
     "text": [
      "Not eligible for exam\n"
     ]
    }
   ],
   "source": [
    "total_classes = int(input(\"Enter total classes: \"))\n",
    "attended = int(input(\"Enter classes attended: \"))\n",
    "\n",
    "attendance_percentage = (attended / total_classes) * 100\n",
    "\n",
    "if attendance_percentage >= 75:\n",
    "    print(\"Eligible for exam\")\n",
    "else:\n",
    "    print(\"Not eligible for exam\")\n"
   ]
  },
  {
   "cell_type": "code",
   "execution_count": 11,
   "id": "24de25c8",
   "metadata": {},
   "outputs": [
    {
     "name": "stdout",
     "output_type": "stream",
     "text": [
      "Transaction failed\n"
     ]
    }
   ],
   "source": [
    "amount = int(input(\"Enter withdrawal amount: \"))\n",
    "\n",
    "if amount % 100 == 0:\n",
    "    print(\"Transaction successful\")\n",
    "else:\n",
    "    print(\"Transaction failed\")\n"
   ]
  },
  {
   "cell_type": "code",
   "execution_count": 12,
   "id": "b066be74",
   "metadata": {},
   "outputs": [
    {
     "name": "stdout",
     "output_type": "stream",
     "text": [
      "Too hot, stay indoors!\n"
     ]
    }
   ],
   "source": [
    "temp = float(input(\"Enter temperature: \"))\n",
    "\n",
    "if temp > 35:\n",
    "    print(\"Too hot, stay indoors!\")\n",
    "elif 20 <= temp <= 35:\n",
    "    print(\"Nice weather, go out!\")\n",
    "else:\n",
    "    print(\"It’s cold, wear warm clothes!\")\n"
   ]
  },
  {
   "cell_type": "code",
   "execution_count": 13,
   "id": "8ab4b188",
   "metadata": {},
   "outputs": [
    {
     "name": "stdout",
     "output_type": "stream",
     "text": [
      "Fine amount: 100\n"
     ]
    }
   ],
   "source": [
    "days_late = int(input(\"Enter number of late days: \"))\n",
    "\n",
    "if 1 <= days_late <= 5:\n",
    "    fine = 10\n",
    "elif 6 <= days_late <= 10:\n",
    "    fine = 50\n",
    "elif days_late > 10:\n",
    "    fine = 100\n",
    "else:\n",
    "    fine = 0  # no fine for 0 days\n",
    "\n",
    "print(\"Fine amount:\", fine)\n"
   ]
  },
  {
   "cell_type": "code",
   "execution_count": 14,
   "id": "bd49bf5d",
   "metadata": {},
   "outputs": [
    {
     "name": "stdout",
     "output_type": "stream",
     "text": [
      "Electricity bill amount: 8170\n"
     ]
    }
   ],
   "source": [
    "units = int(input(\"Enter units consumed: \"))\n",
    "bill = 0\n",
    "\n",
    "if units <= 100:\n",
    "    bill = units * 5\n",
    "elif units <= 200:\n",
    "    bill = 100 * 5 + (units - 100) * 7\n",
    "else:\n",
    "    bill = 100 * 5 + 100 * 7 + (units - 200) * 10\n",
    "\n",
    "print(\"Electricity bill amount:\", bill)\n"
   ]
  }
 ],
 "metadata": {
  "kernelspec": {
   "display_name": "Python 3",
   "language": "python",
   "name": "python3"
  },
  "language_info": {
   "codemirror_mode": {
    "name": "ipython",
    "version": 3
   },
   "file_extension": ".py",
   "mimetype": "text/x-python",
   "name": "python",
   "nbconvert_exporter": "python",
   "pygments_lexer": "ipython3",
   "version": "3.11.0"
  }
 },
 "nbformat": 4,
 "nbformat_minor": 5
}
