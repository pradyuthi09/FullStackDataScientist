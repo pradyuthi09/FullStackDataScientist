{
 "cells": [
  {
   "cell_type": "code",
   "execution_count": 2,
   "id": "f987beff",
   "metadata": {},
   "outputs": [
    {
     "name": "stdout",
     "output_type": "stream",
     "text": [
      "310\n"
     ]
    }
   ],
   "source": [
    "my_grocery = [\n",
    "    {\"item1_pp\": 50, \"Quantity\": 2},\n",
    "    {\"item2_pp\": 30, \"Quantity\": 5},\n",
    "    {\"item3_pp\": 20, \"Quantity\": 3}\n",
    "]\n",
    "bill1=my_grocery[0][\"item1_pp\"]*my_grocery[0][\"Quantity\"]\n",
    "bill2=my_grocery[1][\"item2_pp\"]*my_grocery[1][\"Quantity\"]\n",
    "bill3= my_grocery[2][\"item3_pp\"]*my_grocery[2][\"Quantity\"]\n",
    "Total=bill1+bill2+bill3\n",
    "print(Total)"
   ]
  },
  {
   "cell_type": "code",
   "execution_count": 3,
   "id": "f02f3277",
   "metadata": {},
   "outputs": [
    {
     "name": "stdout",
     "output_type": "stream",
     "text": [
      "Addition= 9\n",
      "Substraction= 3\n",
      "Multiplication= 18\n",
      "Divison= 2.0\n",
      "Modulus= 0\n"
     ]
    }
   ],
   "source": [
    "a=int(input(\"Enter first number\"))\n",
    "b=int(input(\"Enter second number\"))\n",
    "Addition = a+b\n",
    "Subtraction = a-b\n",
    "Multiplication = a*b\n",
    "Division = a/b\n",
    "Modulus = a%b\n",
    "print(\"Addition=\",Addition)\n",
    "print(\"Substraction=\",Subtraction)\n",
    "print(\"Multiplication=\",Multiplication)\n",
    "print(\"Divison=\",Division)\n",
    "print(\"Modulus=\",Modulus)\n"
   ]
  },
  {
   "cell_type": "code",
   "execution_count": 5,
   "id": "f2365068",
   "metadata": {},
   "outputs": [
    {
     "name": "stdout",
     "output_type": "stream",
     "text": [
      "A\n"
     ]
    }
   ],
   "source": [
    "marks=int(input(\"Enter marks\"))\n",
    "if marks>=90:\n",
    "    print(\"A+\")\n",
    "elif 80<marks<89:\n",
    "    print(\"A\")\n",
    "elif 70<marks<79:\n",
    "    print(\"B\")\n",
    "elif 60<marks<69:\n",
    "    print(\"C\")\n",
    "else:\n",
    "    print(\"Fail\")"
   ]
  },
  {
   "cell_type": "code",
   "execution_count": null,
   "id": "15d9fe5a",
   "metadata": {},
   "outputs": [
    {
     "name": "stdout",
     "output_type": "stream",
     "text": [
      "Highest Marks = 90\n",
      "Lowest Marks = 45\n",
      "Average Marks = 71.4\n"
     ]
    }
   ],
   "source": [
    "marks = [45, 78, 88, 56, 90]\n",
    "\n",
    "max_marks = max(marks)           \n",
    "min_marks = min(marks)        \n",
    "avg_marks = sum(marks) / len(marks)  \n",
    "\n",
    "print(\"Highest Marks =\", max_marks)\n",
    "print(\"Lowest Marks =\", min_marks)\n",
    "print(\"Average Marks =\", avg_marks)\n"
   ]
  },
  {
   "cell_type": "code",
   "execution_count": 10,
   "id": "ad6a1ba9",
   "metadata": {},
   "outputs": [
    {
     "name": "stdout",
     "output_type": "stream",
     "text": [
      "Search name: 9123456780\n"
     ]
    }
   ],
   "source": [
    "phonebook = {\"Suhel\": 9876543210, \"Ravi\": 9123456780, \"Anita\": 9988776655}\n",
    "search_name=str(input(\"Enter search name\"))\n",
    "if search_name in phonebook:\n",
    "    print(\"Search name:\",phonebook[search_name])\n",
    "else:\n",
    "    print(\"No Name found\")\n"
   ]
  },
  {
   "cell_type": "code",
   "execution_count": 30,
   "id": "c4c371b1",
   "metadata": {},
   "outputs": [
    {
     "name": "stdout",
     "output_type": "stream",
     "text": [
      "512\n"
     ]
    }
   ],
   "source": [
    "print(2 ** 3 ** 2)"
   ]
  },
  {
   "cell_type": "code",
   "execution_count": null,
   "id": "043643b1",
   "metadata": {},
   "outputs": [],
   "source": []
  }
 ],
 "metadata": {
  "kernelspec": {
   "display_name": "Python 3",
   "language": "python",
   "name": "python3"
  },
  "language_info": {
   "codemirror_mode": {
    "name": "ipython",
    "version": 3
   },
   "file_extension": ".py",
   "mimetype": "text/x-python",
   "name": "python",
   "nbconvert_exporter": "python",
   "pygments_lexer": "ipython3",
   "version": "3.11.0"
  }
 },
 "nbformat": 4,
 "nbformat_minor": 5
}
