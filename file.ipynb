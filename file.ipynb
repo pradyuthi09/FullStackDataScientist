{
 "cells": [
  {
   "cell_type": "code",
   "execution_count": null,
   "id": "5609e280",
   "metadata": {},
   "outputs": [
    {
     "ename": "",
     "evalue": "",
     "output_type": "error",
     "traceback": [
      "\u001b[1;31mRunning cells with 'venv (Python 3.11.0)' requires the ipykernel package.\n",
      "\u001b[1;31mInstall 'ipykernel' into the Python environment. \n",
      "\u001b[1;31mCommand: 'conda install -p c:\\Users\\CVR\\Desktop\\New folder (3)\\venv ipykernel --update-deps --force-reinstall'"
     ]
    }
   ],
   "source": []
  },
  {
   "cell_type": "code",
   "execution_count": 1,
   "id": "d49ea4c8",
   "metadata": {},
   "outputs": [
    {
     "name": "stdout",
     "output_type": "stream",
     "text": [
      "Before swapping: a = 4, b = 6\n",
      "After swapping: a = 6, b = 4\n"
     ]
    }
   ],
   "source": [
    "\n",
    "a = int(input(\"Enter first number: \"))\n",
    "b = int(input(\"Enter second number: \"))\n",
    "print(f\"Before swapping: a = {a}, b = {b}\")\n",
    "a = a + b\n",
    "b = a - b\n",
    "a = a - b\n",
    "print(f\"After swapping: a = {a}, b = {b}\")\n"
   ]
  },
  {
   "cell_type": "markdown",
   "id": "c487409e",
   "metadata": {},
   "source": []
  },
  {
   "cell_type": "code",
   "execution_count": null,
   "id": "f3153199",
   "metadata": {},
   "outputs": [],
   "source": []
  },
  {
   "cell_type": "code",
   "execution_count": 5,
   "id": "63c3712d",
   "metadata": {},
   "outputs": [
    {
     "name": "stdout",
     "output_type": "stream",
     "text": [
      "tyu\n"
     ]
    }
   ],
   "source": [
    "s=str(input(\"Enter String\"))\n",
    "rev=''.join(reversed(s))\n",
    "print(s)"
   ]
  },
  {
   "cell_type": "code",
   "execution_count": 1,
   "id": "65063c16",
   "metadata": {},
   "outputs": [
    {
     "name": "stdout",
     "output_type": "stream",
     "text": [
      "78*1=78\n",
      "78*2=156\n",
      "78*3=234\n",
      "78*4=312\n",
      "78*5=390\n",
      "78*6=468\n",
      "78*7=546\n",
      "78*8=624\n",
      "78*9=702\n"
     ]
    }
   ],
   "source": [
    "n=int(input())\n",
    "for i in range(1,10):\n",
    "    print(f\"{n}*{i}={n*i}\")"
   ]
  },
  {
   "cell_type": "code",
   "execution_count": 3,
   "id": "bf04ecd0",
   "metadata": {},
   "outputs": [
    {
     "name": "stdout",
     "output_type": "stream",
     "text": [
      "Not an Armstring\n"
     ]
    }
   ],
   "source": [
    "n=int(input(\"enter n\"))\n",
    "temp=n\n",
    "sum=0\n",
    "l=len(str(n))\n",
    "while n!=0 :\n",
    "    num=n%10\n",
    "    sum+=num**l\n",
    "    n=n//10\n",
    "\n",
    "if sum==temp :\n",
    "    print(\"Armstrong Number\")\n",
    "else :\n",
    "    print(\"Not an Armstring\")"
   ]
  },
  {
   "cell_type": "code",
   "execution_count": 1,
   "id": "8ea932a0",
   "metadata": {},
   "outputs": [
    {
     "name": "stdout",
     "output_type": "stream",
     "text": [
      " Consonents: 3\n",
      "Vowels: 1\n"
     ]
    }
   ],
   "source": [
    "s=str(input(\"Enter the string\"))\n",
    "C=0\n",
    "v=0\n",
    "vowels=\"aeiou\"\n",
    "for i in s:\n",
    "  if i.isalpha():\n",
    "     if i in vowels:\n",
    "        v+=1\n",
    "     else:\n",
    "        C+=1 \n",
    "print(\" Consonents:\", C)\n",
    "print(\"Vowels:\",v)\n",
    " "
   ]
  }
 ],
 "metadata": {
  "kernelspec": {
   "display_name": "Python 3",
   "language": "python",
   "name": "python3"
  },
  "language_info": {
   "codemirror_mode": {
    "name": "ipython",
    "version": 3
   },
   "file_extension": ".py",
   "mimetype": "text/x-python",
   "name": "python",
   "nbconvert_exporter": "python",
   "pygments_lexer": "ipython3",
   "version": "3.11.0"
  }
 },
 "nbformat": 4,
 "nbformat_minor": 5
}
