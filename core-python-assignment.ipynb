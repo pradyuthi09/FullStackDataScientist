{
 "cells": [
  {
   "cell_type": "code",
   "execution_count": 14,
   "id": "aa862729",
   "metadata": {},
   "outputs": [
    {
     "name": "stdout",
     "output_type": "stream",
     "text": [
      "Total price : 54000\n"
     ]
    }
   ],
   "source": [
    "#1. E-Commerce Cart System** \n",
    "n = int(input(\"Enter the number of items: \"))\n",
    "cart_items = {}\n",
    "\n",
    "for i in range(n):\n",
    "    item = input(f\"Enter the name of item {i+1}: \")\n",
    "    price = int(input(\"Enter the price of item: \"))\n",
    "    cart_items[item] = price\n",
    "\n",
    "\n",
    "total = sum(cart_items.values())\n",
    "\n",
    "if n > 5:\n",
    "    bill = total * 0.9   \n",
    "else:\n",
    "    bill = total\n",
    "\n",
    "print(f\"Total price : {bill}\")\n"
   ]
  },
  {
   "cell_type": "code",
   "execution_count": 18,
   "id": "573c107b",
   "metadata": {},
   "outputs": [
    {
     "name": "stdout",
     "output_type": "stream",
     "text": [
      "Pizza is available\n",
      "\n",
      "Updated menu:\n",
      "['Pizza', 'Burger', 'Pasta', 'Tacos']\n"
     ]
    }
   ],
   "source": [
    "\n",
    "menu = [\"Pizza\", \"Burger\", \"Pasta\", \"Salad\"]\n",
    "def add_item(item, menu_list):\n",
    "    menu_list.append(item)\n",
    "\n",
    "def remove_item(item, menu_list):\n",
    "    if item in menu_list:\n",
    "        menu_list.remove(item)\n",
    "    else:\n",
    "        print(f\"Item '{item}' not available to remove.\")\n",
    "\n",
    "def check_item(item, menu_list):\n",
    "    if item in menu_list:\n",
    "        print(f\"{item} is available\")\n",
    "    else:\n",
    "        print(f\"{item} is not available\")\n",
    "\n",
    "\n",
    "while True:\n",
    "    action = input(\"Enter your requirement (add/delete/check/exit): \").lower()\n",
    "    \n",
    "    if action == \"add\":\n",
    "        item = input(\"Enter item to add: \")\n",
    "        add_item(item, menu)\n",
    "    elif action == \"delete\":\n",
    "        item = input(\"Enter item to remove: \")\n",
    "        remove_item(item, menu)\n",
    "    elif action == \"check\":\n",
    "        item = input(\"Enter item to check: \")\n",
    "        check_item(item, menu)\n",
    "    elif action == \"exit\":\n",
    "        break\n",
    "    else:\n",
    "        print(\"Enter a valid option.\")\n",
    "\n",
    "print(\"\\nUpdated menu:\")\n",
    "print(menu)\n"
   ]
  },
  {
   "cell_type": "code",
   "execution_count": null,
   "id": "b2f60117",
   "metadata": {},
   "outputs": [
    {
     "name": "stdout",
     "output_type": "stream",
     "text": [
      "\n",
      "Average Marks: {'john': 85.0, 'alice': 87.33, 'bob': 75.0}\n",
      "\n",
      "Top Performer: \"alice\"\n"
     ]
    }
   ],
   "source": [
    "#3. Classroom Performance Tracker\n",
    "students = {}\n",
    "\n",
    "n = int(input(\"Enter number of students: \"))\n",
    "\n",
    "for stu in range(n):\n",
    "    name = input(f\"Enter the student name {stu+1}: \")\n",
    "    marks = []\n",
    "    for i in range(3):\n",
    "        mark = int(input(f\"Enter mark {i+1} for {name}: \"))\n",
    "        marks.append(mark)\n",
    "    students[name] = marks\n",
    "\n",
    "averages = {name: round(sum(marks)/len(marks), 2) for name, marks in students.items()}\n",
    "\n",
    "\n",
    "top_student = max(averages, key=averages.get)\n",
    "\n",
    "\n",
    "print(f\"\\nAverage Marks: {averages}\")\n",
    "print(f\"\\nTop Performer: \\\"{top_student}\\\"\")\n",
    "\n"
   ]
  },
  {
   "cell_type": "code",
   "execution_count": 16,
   "id": "9f6dc209",
   "metadata": {},
   "outputs": [
    {
     "name": "stdout",
     "output_type": "stream",
     "text": [
      "Available seats: [1, 4, 5, 6, 8, 9, 10]\n"
     ]
    }
   ],
   "source": [
    "#4. Movie Ticket Booking System\n",
    "user_input = []\n",
    "\n",
    "\n",
    "total_booked = int(input(\"Enter number of pre-booked seats: \"))\n",
    "for i in range(total_booked):\n",
    "    seat_number = int(input(\"Enter seat number: \"))\n",
    "    user_input.append(seat_number)\n",
    "\n",
    "\n",
    "book_seat = int(input(\"Enter the seat to book: \"))\n",
    "user_input.append(book_seat)\n",
    "\n",
    "cancel_seat = int(input(\"Enter the seat to cancel: \"))\n",
    "if cancel_seat in user_input:\n",
    "    user_input.remove(cancel_seat)\n",
    "\n",
    "\n",
    "total_seats = [1,2,3,4,5,6,7,8,9,10]\n",
    "\n",
    "available_seats = [seat for seat in total_seats if seat not in user_input]\n",
    "\n",
    "print(f\"Available seats: {available_seats}\")\n",
    "\n"
   ]
  },
  {
   "cell_type": "code",
   "execution_count": 12,
   "id": "6dc073a6",
   "metadata": {},
   "outputs": [
    {
     "name": "stdout",
     "output_type": "stream",
     "text": [
      "Patients with fever : ['alice', 'charlie']\n"
     ]
    }
   ],
   "source": [
    "#5. Hospital Patient Management\n",
    "n=int(input(\"Enter number of patients\"))\n",
    "patients=[]\n",
    "for i in range(n):\n",
    "    name=input(f\"Enter patient name{i+1}\")\n",
    "    age=input(\"Enter age\")\n",
    "    disease=input(\"Enter disease\")\n",
    "    patients.append({\"Name\": name, \"Age\": age, \"Disease\": disease})\n",
    "search_disease = input(\"Enter disease to search: \")\n",
    "matching_names = [p[\"Name\"] for p in patients if p[\"Disease\"].lower() == search_disease.lower()]\n",
    "\n",
    "print(\"Patients with\", search_disease, \":\", matching_names)"
   ]
  },
  {
   "cell_type": "code",
   "execution_count": 11,
   "id": "b878d210",
   "metadata": {},
   "outputs": [
    {
     "name": "stdout",
     "output_type": "stream",
     "text": [
      "Positive feedback: 62.50%\n"
     ]
    }
   ],
   "source": [
    "#6. Customer Feedback Analysis\n",
    "def positive_feedback_percentage(ratings):\n",
    "    if not ratings: \n",
    "        return 0\n",
    "    accepted_ratings = [rate for rate in ratings if rate == 4 or rate == 5]\n",
    "    percentage = (len(accepted_ratings) / len(ratings)) * 100\n",
    "    return percentage\n",
    "\n",
    "\n",
    "ratings = []\n",
    "n = int(input(\"Enter number of ratings: \"))\n",
    "for i in range(n):\n",
    "    r = int(input(f\"Enter rating {i+1}: \"))\n",
    "    if r < 1 or r > 5:\n",
    "        print(\"Enter rating between 1-5\")\n",
    "    else:\n",
    "        ratings.append(r)\n",
    "\n",
    "positive_percentage = positive_feedback_percentage(ratings)\n",
    "print(f\"Positive feedback: {positive_percentage:.2f}%\")\n"
   ]
  },
  {
   "cell_type": "code",
   "execution_count": 10,
   "id": "c68419a8",
   "metadata": {},
   "outputs": [
    {
     "name": "stdout",
     "output_type": "stream",
     "text": [
      "Trip 1: $100.0\n",
      "Trip 2: $150.0\n",
      "Trip 3: $80.0\n",
      "Total Fare: $330.0\n"
     ]
    }
   ],
   "source": [
    "#7. Taxi Fare Calculation\n",
    "\n",
    "def calculate_fare(distance):\n",
    "    base_fare = 50\n",
    "    distance_fare = 10 * distance\n",
    "    total_fare = base_fare + distance_fare\n",
    "    return total_fare\n",
    "\n",
    "n = int(input(\"Enter number of trips: \"))\n",
    "trips = []\n",
    "\n",
    "for i in range(n):\n",
    "    distance = float(input(f\"Enter distance (in km) for Trip {i+1}: \"))\n",
    "    trips.append(distance)\n",
    "\n",
    "total_fare = 0\n",
    "for i in range(len(trips)):\n",
    "    trip_fare = calculate_fare(trips[i])\n",
    "    total_fare += trip_fare\n",
    "    print(f\"Trip {i+1}: ${trip_fare}\")\n",
    "\n",
    "print(f\"Total Fare: ${total_fare}\")\n"
   ]
  }
 ],
 "metadata": {
  "kernelspec": {
   "display_name": "Python 3",
   "language": "python",
   "name": "python3"
  },
  "language_info": {
   "codemirror_mode": {
    "name": "ipython",
    "version": 3
   },
   "file_extension": ".py",
   "mimetype": "text/x-python",
   "name": "python",
   "nbconvert_exporter": "python",
   "pygments_lexer": "ipython3",
   "version": "3.11.0"
  }
 },
 "nbformat": 4,
 "nbformat_minor": 5
}
