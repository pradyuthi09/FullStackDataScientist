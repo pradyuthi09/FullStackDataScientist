{
 "cells": [
  {
   "cell_type": "code",
   "execution_count": 10,
   "id": "c7a76661",
   "metadata": {},
   "outputs": [
    {
     "name": "stdout",
     "output_type": "stream",
     "text": [
      "The count of words in file is: 3\n"
     ]
    }
   ],
   "source": [
    "#1. Problem: Given a text file, count the total number of words.\n",
    "file=open(\"f1.txt\",\"r\")\n",
    "file_content=file.read()\n",
    "words=file_content.split(\" \")\n",
    "count=0\n",
    "for word in words:\n",
    "    count+=1\n",
    "print(f\"The count of words in file is: {count}\")\n"
   ]
  },
  {
   "cell_type": "code",
   "execution_count": 11,
   "id": "567c358a",
   "metadata": {},
   "outputs": [
    {
     "name": "stdout",
     "output_type": "stream",
     "text": [
      "Passowrd is too short\n",
      "Inavalid password\n"
     ]
    }
   ],
   "source": [
    "#2. Problem: Write a program to check if a password is strong (at least 8 characters, contains uppercase, lowercase, digit, and special char).\n",
    "import string\n",
    "password=input(\"Enter the password\")\n",
    "u=0\n",
    "l=0\n",
    "d=0\n",
    "s=0\n",
    "if (len(password)<8):\n",
    "    print(\"Passowrd is too short\")\n",
    "else:\n",
    "    for ch in password:\n",
    "        if ch.isupper():\n",
    "            u+=1\n",
    "        elif ch.islower():\n",
    "            l+=1\n",
    "        elif ch.isdigit():\n",
    "            d+=1\n",
    "        elif not ch.isalnum():# isalnum return true for digit and letter and false foir special chracter\n",
    "            s+=1\n",
    "if(u>=1 and l>=1 and d>=1 and s>=1 ):\n",
    "    print(\"Valid password\")\n",
    "else:\n",
    "    print(\"Inavalid password\")\n",
    "\n",
    "\n",
    "            \n",
    "\n",
    "    "
   ]
  },
  {
   "cell_type": "code",
   "execution_count": 11,
   "id": "68d682e8",
   "metadata": {},
   "outputs": [
    {
     "name": "stdout",
     "output_type": "stream",
     "text": [
      "The result is 42\n"
     ]
    }
   ],
   "source": [
    "#3. Problem: Implement a calculator with +, -, *, / operations.\n",
    "a=int(input(\"Enter a\"))\n",
    "b=int(input(\"Enter b\"))\n",
    "op=input(\"Enter operation\")\n",
    "if op==\"+\":\n",
    "    c=a+b\n",
    "elif op==\"-\":\n",
    "    c=a-b\n",
    "elif op==\"*\":\n",
    "    c=a*b\n",
    "elif op==\"/\":\n",
    "    if(b!=0):\n",
    "        c=a/b\n",
    "    else:\n",
    "        c=b/a\n",
    "print(f\"The result is {c}\")\n"
   ]
  },
  {
   "cell_type": "code",
   "execution_count": null,
   "id": "b78f07f2",
   "metadata": {},
   "outputs": [
    {
     "name": "stdout",
     "output_type": "stream",
     "text": [
      "The Duplicate names ['ram', 'ponnu']\n"
     ]
    }
   ],
   "source": [
    "#4. Problem: Given a list of student names, find duplicates.\n",
    "\n",
    "student_names=input(\"Enter student names sepertaed by spcae\").split()\n",
    "identical_names=set()\n",
    "dup=[]\n",
    "for name in student_names:\n",
    "    if name in identical_names:\n",
    "        dup.append(name)\n",
    "    else:\n",
    "        identical_names.add(name)\n",
    "print(f\"The Duplicate names {dup}\")\n",
    "\n",
    " "
   ]
  },
  {
   "cell_type": "code",
   "execution_count": null,
   "id": "8a698c7f",
   "metadata": {},
   "outputs": [
    {
     "name": "stdout",
     "output_type": "stream",
     "text": [
      "Fahrenheit is 152.60000000000002\n"
     ]
    }
   ],
   "source": [
    "#5. Problem: Convert between Celsius and Fahrenheit.\n",
    "c=int(input(\"Enter celsius\"))\n",
    "f=(9/5*c)+32\n",
    "print(f\"Fahrenheit is {f}\")"
   ]
  },
  {
   "cell_type": "code",
   "execution_count": null,
   "id": "0271e16d",
   "metadata": {},
   "outputs": [
    {
     "name": "stdout",
     "output_type": "stream",
     "text": [
      "Max element in[5, 4, 2, 8] is 8\n"
     ]
    }
   ],
   "source": [
    "#6. Problem: Find the largest number from a list of integers.\n",
    "l=list(map(int,input(\"Enter numbers with space\").split()))\n",
    "max=0\n",
    "for num in l:\n",
    "    if num>max:\n",
    "        max=num\n",
    "print(f\"Max element in{l} is {max}\")"
   ]
  },
  {
   "cell_type": "code",
   "execution_count": null,
   "id": "9b4c5df6",
   "metadata": {},
   "outputs": [
    {
     "name": "stdout",
     "output_type": "stream",
     "text": [
      "Simple Sntrest 20.0\n"
     ]
    }
   ],
   "source": [
    "#7. Problem: Calculate Simple Interest.\n",
    "P=int(input(\"Enter principle\"))\n",
    "T=int(input(\"Enter the time\"))\n",
    "R=int(input(\"Enter the rate of intrest\"))\n",
    "SI=(P*T*R)/100\n",
    "print(\"Simple Sntrest\",SI)"
   ]
  },
  {
   "cell_type": "code",
   "execution_count": null,
   "id": "21823d92",
   "metadata": {},
   "outputs": [
    {
     "name": "stdout",
     "output_type": "stream",
     "text": [
      "[('ram', 56)]\n"
     ]
    }
   ],
   "source": [
    "#8. Problem: Given a dictionary of student names and attendance %, find defaulters (<75%).\n",
    "n=int(input(\"Enter number of entities\"))\n",
    "data={}\n",
    "for i in range(n):\n",
    "    key=input(\"Enter key\")\n",
    "    val=int(input(\"Enter val\"))\n",
    "    data[key]=val\n",
    "lists=[]\n",
    "for key,val in data.items():\n",
    "    if val<75:\n",
    "        list.append((key,val))\n",
    "print(lists)"
   ]
  },
  {
   "cell_type": "code",
   "execution_count": 29,
   "id": "650c1cd9",
   "metadata": {},
   "outputs": [
    {
     "name": "stdout",
     "output_type": "stream",
     "text": [
      "Sum is 10\n"
     ]
    }
   ],
   "source": [
    "#9. Problem: Input: 1234 → Output: 10\n",
    "n=input(\"Enter the num\")\n",
    "sum=0\n",
    "for i in str(n):\n",
    "    sum+=int(i)\n",
    "print(f\"Sum is {sum}\")"
   ]
  },
  {
   "cell_type": "code",
   "execution_count": 33,
   "id": "b91269ea",
   "metadata": {},
   "outputs": [
    {
     "name": "stdout",
     "output_type": "stream",
     "text": [
      "7 prime number\n"
     ]
    }
   ],
   "source": [
    "#10. Problem: Write a function to check if a number is prime.\n",
    "n=int(input(\"Enter the number\"))\n",
    "count=0\n",
    "if n<=1:\n",
    "    print(\"Neither prime nor composite\")\n",
    "for i in range(1,n+1):\n",
    "    if  n%i==0:\n",
    "        count+=1\n",
    "if(count>2):\n",
    "    print(f\"{n} Not prime number\")\n",
    "else:\n",
    "    print(f\"{n} prime number\")"
   ]
  },
  {
   "cell_type": "code",
   "execution_count": null,
   "id": "e3c610f7",
   "metadata": {},
   "outputs": [
    {
     "name": "stdout",
     "output_type": "stream",
     "text": [
      "Smallest is 2\n",
      "Largest is 8\n"
     ]
    }
   ],
   "source": [
    "\n",
    "# 11. Problem: Find smallest and largest numbers from a list.\n",
    "\n",
    "nums =['2','8','5','6']\n",
    "nums.sort()\n",
    "print(f\"Smallest is {nums[0]}\")\n",
    "print(f\"Largest is {nums[len(nums)-1]}\")\n",
    "\n"
   ]
  },
  {
   "cell_type": "code",
   "execution_count": 47,
   "id": "7ecdbe6d",
   "metadata": {},
   "outputs": [
    {
     "name": "stdout",
     "output_type": "stream",
     "text": [
      "Total bill 235\n"
     ]
    }
   ],
   "source": [
    "#12. Problem: Given items with prices in a dictionary, calculate total bill.\n",
    "\n",
    "n=int(input(\"Enter number of items\"))\n",
    "items_list={}\n",
    "bill=0\n",
    "for i in range(n):\n",
    "    item=input(\"Enter item name\")\n",
    "    price=int(input(\"Enter price\"))\n",
    "    items_list[item]=price\n",
    "for price in items_list.values():\n",
    "    bill+=price\n",
    "print(f\"Total bill {bill}\")"
   ]
  },
  {
   "cell_type": "code",
   "execution_count": 49,
   "id": "ddaf574e",
   "metadata": {},
   "outputs": [
    {
     "name": "stdout",
     "output_type": "stream",
     "text": [
      "9 is greater\n"
     ]
    }
   ],
   "source": [
    "#13. Problem: Input 3 numbers, print the largest.\n",
    "a=int(input(\"Enter a\"))\n",
    "b=int(input(\"Enter b\"))\n",
    "c=int(input(\"Enter c\"))\n",
    "if a>b and a>c:\n",
    "    print(f\"{a} is greater\")\n",
    "elif b>a and b>c:\n",
    "       print(f\"{b} is greater\")\n",
    "else:\n",
    "   print(f\"{c} is greater\")\n"
   ]
  },
  {
   "cell_type": "code",
   "execution_count": 53,
   "id": "d90c5235",
   "metadata": {},
   "outputs": [
    {
     "name": "stdout",
     "output_type": "stream",
     "text": [
      "e->2\n",
      "r->2\n",
      "t->2\n",
      "y->2\n",
      "u->1\n"
     ]
    }
   ],
   "source": [
    "#14. Problem: Count how many times each character appears in a string.\n",
    "\n",
    "str=input(\"Enter the word\")\n",
    "char_count={}\n",
    "for ch in str:\n",
    "    if ch in char_count:\n",
    "        char_count[ch]+=1\n",
    "    else:\n",
    "        char_count[ch]=1\n",
    "for ch,count in char_count.items():\n",
    "    print(f\"{ch}->{count}\")\n",
    "\n"
   ]
  },
  {
   "cell_type": "code",
   "execution_count": null,
   "id": "9cde1332",
   "metadata": {},
   "outputs": [
    {
     "name": "stdout",
     "output_type": "stream",
     "text": [
      "Total Bill:1500\n"
     ]
    }
   ],
   "source": [
    "#15. Problem: Calculate electricity bill:\n",
    "#First 100 units → ₹5/unit\n",
    "#Next 100 units → ₹7/unit\n",
    "#Above 200 units → ₹10/unit\n",
    "units=int(input(\"Enter the units\"))\n",
    "if units>=100:\n",
    "    bill=5*units\n",
    "elif units>=200:\n",
    "    bill=100*5+(units-100)*7\n",
    "else:\n",
    "    bill=100*5+100*7+(units-200)*10\n",
    "print(f\"Total Bill:{bill}\")"
   ]
  },
  {
   "cell_type": "code",
   "execution_count": null,
   "id": "0dc18f75",
   "metadata": {},
   "outputs": [
    {
     "name": "stdout",
     "output_type": "stream",
     "text": [
      "['Anand', 'Bhanu', 'Ramu']\n"
     ]
    }
   ],
   "source": [
    "#16. Problem: Sort a list of names in ascending order.\n",
    "\n",
    "names=['Bhanu','Ramu','Anand']\n",
    "names.sort()\n",
    "print(names)"
   ]
  },
  {
   "cell_type": "code",
   "execution_count": 3,
   "id": "69cf2260",
   "metadata": {},
   "outputs": [
    {
     "name": "stdout",
     "output_type": "stream",
     "text": [
      "4321\n"
     ]
    }
   ],
   "source": [
    "#17. Problem: Input: 1234 → Output: 4321\n",
    "\n",
    "def rev(n):\n",
    "    rev_num=0\n",
    "    while(n!=0):\n",
    "        digit=n%10\n",
    "        rev_num=rev_num*10+digit\n",
    "        n=n//10\n",
    "    return rev_num\n",
    "\n",
    "print(rev(1234))"
   ]
  },
  {
   "cell_type": "code",
   "execution_count": 5,
   "id": "6ba2e059",
   "metadata": {},
   "outputs": [
    {
     "name": "stdout",
     "output_type": "stream",
     "text": [
      "Positive = 2, Negative = 1, Zeros = 1\n"
     ]
    }
   ],
   "source": [
    "#18. Problem: Given a list, count positive, negative, and zero numbers.\n",
    "numbers = [0, 1, -1, 2]   \n",
    "\n",
    "p = n = z = 0\n",
    "for num in numbers:\n",
    "    if num < 0:\n",
    "        n += 1\n",
    "    elif num > 0:\n",
    "        p += 1\n",
    "    else:\n",
    "        z += 1\n",
    "\n",
    "print(f\"Positive = {p}, Negative = {n}, Zeros = {z}\")\n"
   ]
  },
  {
   "cell_type": "code",
   "execution_count": 6,
   "id": "373a5ba9",
   "metadata": {},
   "outputs": [
    {
     "name": "stdout",
     "output_type": "stream",
     "text": [
      "Wrong PIN. You have 2 attempts left.\n",
      "Access granted \n"
     ]
    }
   ],
   "source": [
    "\n",
    "#19. Problem: User has 3 attempts to enter correct PIN.\n",
    "correct_pin = \"1234\"\n",
    "attempts = 3\n",
    "\n",
    "while attempts > 0:\n",
    "    pin = input(\"Enter PIN: \")\n",
    "    if pin == correct_pin:\n",
    "        print(\"Access granted \")\n",
    "        break\n",
    "    else:\n",
    "        attempts -= 1\n",
    "        if attempts > 0:\n",
    "            print(f\"Wrong PIN. You have {attempts} attempts left.\")\n",
    "        else:\n",
    "            print(\"Access denied ❌. No attempts left.\")\n",
    "\n"
   ]
  },
  {
   "cell_type": "code",
   "execution_count": 3,
   "id": "9588f958",
   "metadata": {},
   "outputs": [
    {
     "name": "stdout",
     "output_type": "stream",
     "text": [
      "Error: Denominator should not be zero\n"
     ]
    }
   ],
   "source": [
    "\n",
    "#20. Problem: Write a program that asks for two numbers and divides them. Handle division by zero.\n",
    "a = int(input(\"Enter a: \"))\n",
    "b = int(input(\"Enter b: \"))\n",
    "\n",
    "try:\n",
    "    c = a / b\n",
    "    print(\"Result:\", c)\n",
    "except ZeroDivisionError:\n",
    "    print(\"Error: Denominator should not be zero\")\n",
    "\n",
    "\n"
   ]
  },
  {
   "cell_type": "code",
   "execution_count": 6,
   "id": "eca84a82",
   "metadata": {},
   "outputs": [
    {
     "name": "stdout",
     "output_type": "stream",
     "text": [
      "Error: Please enter integers only\n"
     ]
    }
   ],
   "source": [
    "#21. Problem: Write a program that handles both ValueError (invalid input) and ZeroDivisionError.\n",
    "try:\n",
    "    a = int(input(\"Enter a: \"))\n",
    "    b = int(input(\"Enter b: \"))\n",
    "    c = a / b\n",
    "    print(\"Result:\", c)\n",
    "except ValueError:\n",
    "    print(\"Error: Please enter integers only\")\n",
    "except ZeroDivisionError:\n",
    "    print(\"Error: Denominator should not be zero\")\n",
    "\n"
   ]
  },
  {
   "cell_type": "code",
   "execution_count": 7,
   "id": "73764d40",
   "metadata": {},
   "outputs": [
    {
     "name": "stdout",
     "output_type": "stream",
     "text": [
      "Total balance is 4900\n"
     ]
    }
   ],
   "source": [
    "#22. Problem: If withdrawal amount is greater than balance, raise an exception.\n",
    "balance=int(input(\"Enter balance\"))\n",
    "withdraw=int(input(\"Enter withdraw amount\"))\n",
    "try:\n",
    "    print(f\"Total balance is {balance-withdraw}\")\n",
    "except:\n",
    "    print(\"Insufficient balance\")\n",
    "    \n"
   ]
  },
  {
   "cell_type": "code",
   "execution_count": 10,
   "id": "6c4b5a74",
   "metadata": {},
   "outputs": [
    {
     "name": "stdout",
     "output_type": "stream",
     "text": [
      "Invalid input\n",
      "Bill processing finished\n"
     ]
    }
   ],
   "source": [
    "#23. Problem: Calculate total price, handle invalid input, and always show \"Bill processing finished\".\n",
    "#• First 100 units → ₹5/unit\n",
    "#• Next 100 units → ₹7/unit\n",
    "#• Above 200 units → ₹10/unit\n",
    "\n",
    "try:\n",
    "    units=int(input((\"Enter units\")))\n",
    "    if units>=100:\n",
    "        bill=5*100\n",
    "    elif(units<=200):\n",
    "        bill=5*100+(units-100)*7\n",
    "    else:\n",
    "        bill=5*100+(units-100)*7+(units-200)*10\n",
    "    print(f\"Total balance:{bill}\")\n",
    "except ValueError:\n",
    "  print(\"Invalid input\")\n",
    "finally:\n",
    "  print(\"Bill processing finished\")\n",
    "    \n",
    "\n",
    "    \n"
   ]
  }
 ],
 "metadata": {
  "kernelspec": {
   "display_name": "Python 3",
   "language": "python",
   "name": "python3"
  },
  "language_info": {
   "codemirror_mode": {
    "name": "ipython",
    "version": 3
   },
   "file_extension": ".py",
   "mimetype": "text/x-python",
   "name": "python",
   "nbconvert_exporter": "python",
   "pygments_lexer": "ipython3",
   "version": "3.11.0"
  }
 },
 "nbformat": 4,
 "nbformat_minor": 5
}
